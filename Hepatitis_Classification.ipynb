{
  "nbformat": 4,
  "nbformat_minor": 0,
  "metadata": {
    "colab": {
      "name": "Hepatitis Classification.ipynb",
      "provenance": []
    },
    "kernelspec": {
      "name": "python3",
      "display_name": "Python 3"
    }
  },
  "cells": [
    {
      "cell_type": "code",
      "metadata": {
        "id": "sd5d7RP_RZE_"
      },
      "source": [
        "import pandas as pd\r\n",
        "import matplotlib.pyplot as plt\r\n",
        "from sklearn.neighbors import KNeighborsClassifier\r\n",
        "from sklearn.metrics import accuracy_score\r\n",
        "from sklearn.linear_model import LogisticRegression\r\n",
        "from sklearn.naive_bayes import GaussianNB\r\n",
        "from sklearn.naive_bayes import MultinomialNB\r\n",
        "from sklearn.metrics import confusion_matrix\r\n",
        "from sklearn.preprocessing import normalize\r\n",
        "from sklearn.feature_extraction.text import TfidfVectorizer\r\n",
        "from sklearn.feature_extraction.text import CountVectorizer\r\n",
        "from sklearn.linear_model import LinearRegression\r\n",
        "from sklearn.svm import LinearSVC\r\n",
        "from sklearn.tree import DecisionTreeClassifier\r\n",
        "from sklearn.ensemble import RandomForestClassifier, AdaBoostClassifier\r\n",
        "from sklearn.neural_network import MLPClassifier\r\n",
        "from sklearn.discriminant_analysis import QuadraticDiscriminantAnalysis\r\n",
        "from sklearn.metrics import confusion_matrix"
      ],
      "execution_count": 11,
      "outputs": []
    },
    {
      "cell_type": "code",
      "metadata": {
        "colab": {
          "base_uri": "https://localhost:8080/"
        },
        "id": "HggF2RYIQBbl",
        "outputId": "9db67ada-4539-4397-e2ec-bbb52f33eda3"
      },
      "source": [
        "from google.colab import drive\r\n",
        "\r\n",
        "drive.mount('/content/gdrive',force_remount=True)"
      ],
      "execution_count": 12,
      "outputs": [
        {
          "output_type": "stream",
          "text": [
            "Mounted at /content/gdrive\n"
          ],
          "name": "stdout"
        }
      ]
    },
    {
      "cell_type": "code",
      "metadata": {
        "colab": {
          "base_uri": "https://localhost:8080/"
        },
        "id": "jDAkaFA5ROm5",
        "outputId": "e789a2a6-08a3-48a1-90be-0e99d6862635"
      },
      "source": [
        "#data = pd.read_csv(\"/content/gdrive/My Drive/mainDataset.csv\",names=['AGE','SEX','STEROID',\t'ANTIVIRALS',\t'FATIGUE'\t,'MALAISE',\t'ANOREXIA','LIVER_BIG',\t'LIVER_FIRM',\t'SPLEEN_PALPABLE',\t'SPIDERS',\t'ASCITES',\t'VARICES',\t'BILIRUBIN',\t'ALK_PHOSPHATE',\t'SGOT',\t'ALBUMIN',\t'PROTIME',\t'HISTOLOGY',\t'Class'])\r\n",
        "\r\n",
        "data = pd.read_csv(\"/content/gdrive/My Drive/mainDataset.csv\")\r\n",
        "print(data.head(5))"
      ],
      "execution_count": 13,
      "outputs": [
        {
          "output_type": "stream",
          "text": [
            "         AGE     SEX STEROID ANTIVIRALS  ...   ALBUMIN    PROTIME HISTOLOGY Class\n",
            "0  32.059452  female      no        yes  ...  4.182311  74.038508        no  LIVE\n",
            "1  41.229532  female      no         no  ...  4.030845  25.462303        no  LIVE\n",
            "2  62.133896  female     yes         no  ...  4.865354  36.232554        no  LIVE\n",
            "3  48.209988  female     yes         no  ...  3.902101  42.755563       yes   DIE\n",
            "4  32.699629  female     yes         no  ...  4.075779  42.079171        no  LIVE\n",
            "\n",
            "[5 rows x 20 columns]\n"
          ],
          "name": "stdout"
        }
      ]
    },
    {
      "cell_type": "code",
      "metadata": {
        "colab": {
          "base_uri": "https://localhost:8080/"
        },
        "id": "o-esHcgkTQTo",
        "outputId": "f9f60fb2-ee83-4f71-960c-416f81df552e"
      },
      "source": [
        "data = data.replace(to_replace='female', value=0)\r\n",
        "data = data.replace(to_replace='male', value=1)\r\n",
        "data = data.replace(to_replace='no', value=0)\r\n",
        "data = data.replace(to_replace='yes', value=1)\r\n",
        "data = data.replace(to_replace='DIE', value=0)\r\n",
        "data = data.replace(to_replace='LIVE', value=1)\r\n",
        "print(data.head(5))"
      ],
      "execution_count": 14,
      "outputs": [
        {
          "output_type": "stream",
          "text": [
            "         AGE  SEX  STEROID  ANTIVIRALS  ...   ALBUMIN    PROTIME  HISTOLOGY  Class\n",
            "0  32.059452    0        0           1  ...  4.182311  74.038508          0      1\n",
            "1  41.229532    0        0           0  ...  4.030845  25.462303          0      1\n",
            "2  62.133896    0        1           0  ...  4.865354  36.232554          0      1\n",
            "3  48.209988    0        1           0  ...  3.902101  42.755563          1      0\n",
            "4  32.699629    0        1           0  ...  4.075779  42.079171          0      1\n",
            "\n",
            "[5 rows x 20 columns]\n"
          ],
          "name": "stdout"
        }
      ]
    },
    {
      "cell_type": "code",
      "metadata": {
        "id": "l9cbGhbCgWtl"
      },
      "source": [
        "X= data[['AGE','SEX','STEROID',\t'ANTIVIRALS',\t'FATIGUE'\t,'MALAISE',\t'ANOREXIA',\r\n",
        "         'LIVER_BIG',\t'LIVER_FIRM',\t'SPLEEN_PALPABLE',\t'SPIDERS',\t'ASCITES',\r\n",
        "         'VARICES',\t'BILIRUBIN',\t'ALK_PHOSPHATE',\t'SGOT',\t'ALBUMIN',\t'PROTIME',\r\n",
        "         'HISTOLOGY']]\r\n",
        "\r\n",
        "Y = data[['Class']]"
      ],
      "execution_count": 15,
      "outputs": []
    },
    {
      "cell_type": "code",
      "metadata": {
        "id": "Fn6KV01mbZ_u"
      },
      "source": [
        "from sklearn.model_selection import train_test_split\r\n"
      ],
      "execution_count": 6,
      "outputs": []
    },
    {
      "cell_type": "code",
      "metadata": {
        "id": "g9zcQzyggTN2"
      },
      "source": [
        "x_train, x_test, y_train, y_test = train_test_split(X, Y, test_size=0.2, random_state=42)"
      ],
      "execution_count": 7,
      "outputs": []
    },
    {
      "cell_type": "code",
      "metadata": {
        "colab": {
          "base_uri": "https://localhost:8080/"
        },
        "id": "CztmSMCNhd89",
        "outputId": "0d76ed13-ead1-4e25-fdf2-b6613697b737"
      },
      "source": [
        "LR = LogisticRegression(solver='saga',max_iter=1000,multi_class='ovr',verbose=2,n_jobs=-1)\r\n",
        "LR.fit(x_train,y_train)\r\n",
        "LR_predicted = LR.predict(x_test)\r\n",
        "LRC = LR.score(x_test,y_test)\r\n",
        "print(\"Accuracy: \", 100*LRC)"
      ],
      "execution_count": 9,
      "outputs": [
        {
          "output_type": "stream",
          "text": [
            "/usr/local/lib/python3.6/dist-packages/sklearn/utils/validation.py:760: DataConversionWarning: A column-vector y was passed when a 1d array was expected. Please change the shape of y to (n_samples, ), for example using ravel().\n",
            "  y = column_or_1d(y, warn=True)\n",
            "[Parallel(n_jobs=-1)]: Using backend ThreadingBackend with 2 concurrent workers.\n"
          ],
          "name": "stderr"
        },
        {
          "output_type": "stream",
          "text": [
            "convergence after 609 epochs took 375 seconds\n",
            "Accuracy:  89.786\n"
          ],
          "name": "stdout"
        },
        {
          "output_type": "stream",
          "text": [
            "[Parallel(n_jobs=-1)]: Done   1 out of   1 | elapsed:  6.2min finished\n"
          ],
          "name": "stderr"
        }
      ]
    },
    {
      "cell_type": "code",
      "metadata": {
        "colab": {
          "base_uri": "https://localhost:8080/"
        },
        "id": "ICZz3QU2jA78",
        "outputId": "0771d4ae-dfd4-4366-9427-d138779ac1df"
      },
      "source": [
        "tn,fp,fn,tp=confusion_matrix(y_test,LR_predicted).ravel()\r\n",
        "cm = [tn,fp,fn,tp]\r\n",
        "print(\"Confusion Matrix For Logistic Regression Classifier: \")\r\n",
        "print(\"TN: \",cm[0],\"  FP: \",cm[1],\"\\nFN: \",cm[2],\"    TP: \",cm[3])\r\n",
        "\r\n",
        "print(\"\\nAccuracy of Logistic Regression Classifier: \",LRC*100,\"%\\n\")\r\n",
        "print(\"Error of Logistic Regression Classifier: \",(1-LRC)*100,\"%\\n\")\r\n",
        "print(\"Precision of Logistic Regression Classifier: \",(tp/(tp+fp))*100,\"%\\n\")\r\n",
        "print(\"Recall of Logistic Regression Classifier: \",(tp/(tp+fn))*100,\"%\\n\")"
      ],
      "execution_count": 10,
      "outputs": [
        {
          "output_type": "stream",
          "text": [
            "Confusion Matrix For Logistic Regression Classifier: \n",
            "TN:  28148   FP:  13276 \n",
            "FN:  7152     TP:  151424\n",
            "\n",
            "Accuracy of Logistic Regression Classifier:  89.786 %\n",
            "\n",
            "Error of Logistic Regression Classifier:  10.214 %\n",
            "\n",
            "Precision of Logistic Regression Classifier:  91.93928354584092 %\n",
            "\n",
            "Recall of Logistic Regression Classifier:  95.48985975179095 %\n",
            "\n"
          ],
          "name": "stdout"
        }
      ]
    }
  ]
}